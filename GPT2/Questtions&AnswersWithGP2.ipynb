{
  "nbformat": 4,
  "nbformat_minor": 0,
  "metadata": {
    "colab": {
      "provenance": []
    },
    "kernelspec": {
      "name": "python3",
      "display_name": "Python 3"
    },
    "language_info": {
      "name": "python"
    }
  },
  "cells": [
    {
      "cell_type": "code",
      "source": [
        "from transformers import GPT2LMHeadModel, GPT2Tokenizer\n",
        "import torch\n",
        "\n",
        "# Load GPT-2 model and tokenizer\n",
        "tokenizer = GPT2Tokenizer.from_pretrained(\"gpt2\")\n",
        "tokenizer.pad_token = tokenizer.eos_token  # Set pad token using string\n",
        "model = GPT2LMHeadModel.from_pretrained(\"gpt2\")\n",
        "model.config.pad_token_id = tokenizer.pad_token_id\n",
        "model.eval()\n",
        "\n",
        "# Define context and question\n",
        "context = \"\"\"The Indian Premier League (IPL) is a professional Twenty20 cricket league in India organised by the Board of Control for Cricket in India (BCCI). Founded in 2007, the league features ten state-based or city-based franchise teams. The IPL is the most popular and richest cricket league in the world and is held between March and May. It has an exclusive window in the Future Tours Programme of the International Cricket Council (ICC), resulting in fewer international cricket tours occurring during the IPL seasons. It is also the most viewed sports competition in India, as per the Broadcast Audience Research Council.\n",
        "\n",
        "In 2014, it ranked sixth in attendance among all sports leagues. In 2010, the IPL became the first sporting event to be broadcast live on YouTube. Inspired by the success of the IPL, other Indian sports leagues have been established. IPL is the second-richest sports league in the world by per-match value, after the NFL. In 2023, the league sold its media rights for the next 4 seasons for US$6.4 billion to Viacom18 and Star Sports, which meant that each IPL match was valued at $13.4 million. As of 2024, there have been seventeen seasons of the tournament. The current champions are the Kolkata Knight Riders, who won the 2024 season after defeating the Sunrisers Hyderabad in the final. In just six years, the IPL's value has more than doubled, reaching $12 billion in 2024.\"\"\"\n",
        "\n",
        "question = \"When did IPL start?\"\n",
        "prompt = f\"Context: {context}\\nQuestion: {question}\\nAnswer:\"\n",
        "\n",
        "# Tokenize input with attention mask\n",
        "inputs = tokenizer(prompt, return_tensors=\"pt\", padding=True, truncation=True, max_length=512)\n",
        "input_ids = inputs[\"input_ids\"]\n",
        "attention_mask = inputs[\"attention_mask\"]\n",
        "\n",
        "# Generate output\n",
        "with torch.no_grad():\n",
        "    outputs = model.generate(\n",
        "        input_ids=input_ids,\n",
        "        attention_mask=attention_mask,\n",
        "        max_new_tokens=50,\n",
        "        temperature=0.7,\n",
        "        top_p=0.9,\n",
        "        do_sample=True,\n",
        "        pad_token_id=tokenizer.pad_token_id,\n",
        "        eos_token_id=tokenizer.eos_token_id\n",
        "    )\n",
        "\n",
        "# Decode and extract generated answer\n",
        "decoded = tokenizer.decode(outputs[0], skip_special_tokens=True)\n",
        "generated_answer = decoded[len(prompt):].strip()\n",
        "\n",
        "print(\"Generated Answer:\\n\", generated_answer)\n"
      ],
      "metadata": {
        "id": "BtezN6VhFKkK"
      },
      "execution_count": null,
      "outputs": []
    }
  ]
}