{
  "nbformat": 4,
  "nbformat_minor": 0,
  "metadata": {
    "colab": {
      "provenance": []
    },
    "kernelspec": {
      "name": "python3",
      "display_name": "Python 3"
    },
    "language_info": {
      "name": "python"
    }
  },
  "cells": [
    {
      "cell_type": "markdown",
      "source": [
        "Step 1: Install required libraries"
      ],
      "metadata": {
        "id": "3EMQdpdkez-w"
      }
    },
    {
      "cell_type": "code",
      "source": [
        "!pip install gdown\n",
        "!pip install nltk"
      ],
      "metadata": {
        "colab": {
          "base_uri": "https://localhost:8080/"
        },
        "id": "jtS9uJ7uey8m",
        "outputId": "d50838f9-66ad-48bd-8603-e286cf209c6d"
      },
      "execution_count": 39,
      "outputs": [
        {
          "output_type": "stream",
          "name": "stdout",
          "text": [
            "Requirement already satisfied: gdown in /usr/local/lib/python3.11/dist-packages (5.2.0)\n",
            "Requirement already satisfied: beautifulsoup4 in /usr/local/lib/python3.11/dist-packages (from gdown) (4.13.4)\n",
            "Requirement already satisfied: filelock in /usr/local/lib/python3.11/dist-packages (from gdown) (3.18.0)\n",
            "Requirement already satisfied: requests[socks] in /usr/local/lib/python3.11/dist-packages (from gdown) (2.32.3)\n",
            "Requirement already satisfied: tqdm in /usr/local/lib/python3.11/dist-packages (from gdown) (4.67.1)\n",
            "Requirement already satisfied: soupsieve>1.2 in /usr/local/lib/python3.11/dist-packages (from beautifulsoup4->gdown) (2.7)\n",
            "Requirement already satisfied: typing-extensions>=4.0.0 in /usr/local/lib/python3.11/dist-packages (from beautifulsoup4->gdown) (4.14.0)\n",
            "Requirement already satisfied: charset-normalizer<4,>=2 in /usr/local/lib/python3.11/dist-packages (from requests[socks]->gdown) (3.4.2)\n",
            "Requirement already satisfied: idna<4,>=2.5 in /usr/local/lib/python3.11/dist-packages (from requests[socks]->gdown) (3.10)\n",
            "Requirement already satisfied: urllib3<3,>=1.21.1 in /usr/local/lib/python3.11/dist-packages (from requests[socks]->gdown) (2.4.0)\n",
            "Requirement already satisfied: certifi>=2017.4.17 in /usr/local/lib/python3.11/dist-packages (from requests[socks]->gdown) (2025.4.26)\n",
            "Requirement already satisfied: PySocks!=1.5.7,>=1.5.6 in /usr/local/lib/python3.11/dist-packages (from requests[socks]->gdown) (1.7.1)\n",
            "Requirement already satisfied: nltk in /usr/local/lib/python3.11/dist-packages (3.9.1)\n",
            "Requirement already satisfied: click in /usr/local/lib/python3.11/dist-packages (from nltk) (8.2.1)\n",
            "Requirement already satisfied: joblib in /usr/local/lib/python3.11/dist-packages (from nltk) (1.5.1)\n",
            "Requirement already satisfied: regex>=2021.8.3 in /usr/local/lib/python3.11/dist-packages (from nltk) (2024.11.6)\n",
            "Requirement already satisfied: tqdm in /usr/local/lib/python3.11/dist-packages (from nltk) (4.67.1)\n"
          ]
        }
      ]
    },
    {
      "cell_type": "markdown",
      "source": [
        "Step 2: Import necessary libraries"
      ],
      "metadata": {
        "id": "sQG6BPdIr0eq"
      }
    },
    {
      "cell_type": "code",
      "source": [
        "import gdown\n",
        "import pandas as pd\n",
        "import numpy as np\n",
        "from nltk.corpus import stopwords\n",
        "import nltk\n",
        "from tensorflow.keras.preprocessing.text import Tokenizer\n",
        "from tensorflow.keras.preprocessing.sequence import pad_sequences\n",
        "from tensorflow.keras.models import Sequential\n",
        "from tensorflow.keras.layers import Embedding, LSTM, Bidirectional, Dense\n",
        "from tensorflow.keras.callbacks import EarlyStopping, ModelCheckpoint\n",
        "from sklearn.model_selection import train_test_split\n",
        "from sklearn.metrics import accuracy_score, precision_score, recall_score, f1_score, confusion_matrix\n",
        "import matplotlib.pyplot as plt\n",
        "import seaborn as sns\n",
        "import os\n",
        "from sklearn.utils import class_weight\n",
        "import re"
      ],
      "metadata": {
        "id": "XKXi9yb9r6FA"
      },
      "execution_count": 40,
      "outputs": []
    },
    {
      "cell_type": "markdown",
      "source": [
        "Step 3: Download NLTK stopwords"
      ],
      "metadata": {
        "id": "ls4jWvj1sE6O"
      }
    },
    {
      "cell_type": "code",
      "source": [
        "nltk.download('stopwords')\n",
        "english_stops = set(stopwords.words('english'))"
      ],
      "metadata": {
        "colab": {
          "base_uri": "https://localhost:8080/"
        },
        "id": "l0evEW_usJbT",
        "outputId": "d8f49e98-88db-47bb-9c53-20f9db79edcb"
      },
      "execution_count": 41,
      "outputs": [
        {
          "output_type": "stream",
          "name": "stderr",
          "text": [
            "[nltk_data] Downloading package stopwords to /root/nltk_data...\n",
            "[nltk_data]   Package stopwords is already up-to-date!\n"
          ]
        }
      ]
    },
    {
      "cell_type": "markdown",
      "source": [
        "Step 4: Download datasets from Google Drive"
      ],
      "metadata": {
        "id": "JmmAaq2isNf-"
      }
    },
    {
      "cell_type": "code",
      "source": [
        "gdown.download(\"https://drive.google.com/uc?id=1bSQ6py-E2LZ938ACsry4DG5JuLNdoUc-\", \"phm_test.csv\", quiet=False)\n",
        "gdown.download(\"https://drive.google.com/uc?id=1GL_RmvSYLVEvFHgqY59hApYrefYYVr59\", \"phm_train.csv\", quiet=False)"
      ],
      "metadata": {
        "colab": {
          "base_uri": "https://localhost:8080/",
          "height": 178
        },
        "id": "csw25HeQsRV0",
        "outputId": "d47e2099-c8b8-4954-eb0c-67626f4b995e"
      },
      "execution_count": 42,
      "outputs": [
        {
          "output_type": "stream",
          "name": "stderr",
          "text": [
            "Downloading...\n",
            "From: https://drive.google.com/uc?id=1bSQ6py-E2LZ938ACsry4DG5JuLNdoUc-\n",
            "To: /content/phm_test.csv\n",
            "100%|██████████| 330k/330k [00:00<00:00, 55.5MB/s]\n",
            "Downloading...\n",
            "From: https://drive.google.com/uc?id=1GL_RmvSYLVEvFHgqY59hApYrefYYVr59\n",
            "To: /content/phm_train.csv\n",
            "100%|██████████| 964k/964k [00:00<00:00, 40.0MB/s]\n"
          ]
        },
        {
          "output_type": "execute_result",
          "data": {
            "text/plain": [
              "'phm_train.csv'"
            ],
            "application/vnd.google.colaboratory.intrinsic+json": {
              "type": "string"
            }
          },
          "metadata": {},
          "execution_count": 42
        }
      ]
    },
    {
      "cell_type": "markdown",
      "source": [
        "Step 5: Load datasets"
      ],
      "metadata": {
        "id": "_AaLbusJsVgv"
      }
    },
    {
      "cell_type": "code",
      "source": [
        "df_test = pd.read_csv(\"phm_test.csv\")\n",
        "df_train = pd.read_csv(\"phm_train.csv\")"
      ],
      "metadata": {
        "id": "RMZ9pOFfsZDk"
      },
      "execution_count": 43,
      "outputs": []
    },
    {
      "cell_type": "markdown",
      "source": [
        "Step 5.1: Inspect column names"
      ],
      "metadata": {
        "id": "moFEI_RKsdFI"
      }
    },
    {
      "cell_type": "code",
      "source": [
        "print(\"Train dataset columns:\", df_train.columns)\n",
        "print(\"Test dataset columns:\", df_test.columns)"
      ],
      "metadata": {
        "colab": {
          "base_uri": "https://localhost:8080/"
        },
        "id": "HPXLJ70dsgPe",
        "outputId": "1ea51c6d-5dab-456e-eb9c-fc94af01b3d4"
      },
      "execution_count": 44,
      "outputs": [
        {
          "output_type": "stream",
          "name": "stdout",
          "text": [
            "Train dataset columns: Index(['tweet_id', 'label', 'tweet'], dtype='object')\n",
            "Test dataset columns: Index(['tweet_id', 'label', 'tweet'], dtype='object')\n"
          ]
        }
      ]
    },
    {
      "cell_type": "markdown",
      "source": [
        "Step 6: Drop missing values"
      ],
      "metadata": {
        "id": "mGZFXgWWslZH"
      }
    },
    {
      "cell_type": "code",
      "source": [
        "df_test.dropna(inplace=True)\n",
        "df_train.dropna(inplace=True)"
      ],
      "metadata": {
        "id": "Zw-y5eFCsoWe"
      },
      "execution_count": 45,
      "outputs": []
    },
    {
      "cell_type": "markdown",
      "source": [
        "Step 7: Preview dataset samples"
      ],
      "metadata": {
        "id": "v81YclQcsrnU"
      }
    },
    {
      "cell_type": "code",
      "source": [
        "print(\"Sample Test Data:\")\n",
        "print(df_test.head())\n",
        "print(\"\\nSample Train Data:\")\n",
        "print(df_train.head())"
      ],
      "metadata": {
        "colab": {
          "base_uri": "https://localhost:8080/"
        },
        "id": "cNRFjYPpsvYO",
        "outputId": "289aefac-b0af-4826-ea76-531ddf0eaed1"
      },
      "execution_count": 46,
      "outputs": [
        {
          "output_type": "stream",
          "name": "stdout",
          "text": [
            "Sample Test Data:\n",
            "       tweet_id  label                                              tweet\n",
            "0  6.411550e+17      0  when you try to run away from the iv needle so...\n",
            "1  6.425520e+17      1  i just knew i took an ambien for sleep too ear...\n",
            "2  6.410410e+17      1  i mean i get that my celexa is the reason behi...\n",
            "3  7.476620e+17      0  if you call me dumb or her dumb one more time ...\n",
            "4  6.406830e+17      0  i do not want to go to the grocery store but i...\n",
            "\n",
            "Sample Train Data:\n",
            "       tweet_id  label                                              tweet\n",
            "0  6.430000e+17      0  user_mention all i can tell you is i have had ...\n",
            "1  6.440000e+17      0  my doctor told me stop he gave me sum pop i mi...\n",
            "2  8.150000e+17      1  i take tylenol and i wake up in the middle of ...\n",
            "3  6.820000e+17      0  i got xans in an advil bottle i dont take them...\n",
            "4  6.440000e+17      1  mom says i need to stop eating so much bc ive ...\n"
          ]
        }
      ]
    },
    {
      "cell_type": "markdown",
      "source": [
        "Step 8: Preprocess tweet text data (adapted from IMDB code)"
      ],
      "metadata": {
        "id": "yFwp6eoQsyqo"
      }
    },
    {
      "cell_type": "code",
      "source": [
        "def load_dataset(df, text_col='tweet', label_col='label'):\n",
        "    x_data = df[text_col]       # Reviews/Input\n",
        "    y_data = df[label_col]      # Sentiment/Output\n",
        "\n",
        "    # PRE-PROCESS TWEETS\n",
        "    x_data = x_data.replace({'<.*?>': ''}, regex=True)          # remove HTML tags\n",
        "    x_data = x_data.replace({'[^A-Za-z]': ' '}, regex=True)     # remove non-alphabetic characters\n",
        "    x_data = x_data.apply(lambda tweet: [w for w in tweet.split() if w not in english_stops])  # remove stopwords\n",
        "    x_data = x_data.apply(lambda tweet: [w.lower() for w in tweet])   # lowercase\n",
        "\n",
        "    # ENCODE LABELS (assuming 0 and 1 are already encoded; adjust if needed)\n",
        "    return x_data, y_data\n",
        "\n",
        "# Adjust 'tweet' and 'label' to match actual column names\n",
        "text_col = 'tweet'  # Update based on df_train.columns\n",
        "label_col = 'label'  # Update based on df_train.columns\n",
        "x_train, y_train = load_dataset(df_train, text_col, label_col)\n",
        "x_test, y_test = load_dataset(df_test, text_col, label_col)\n",
        "\n",
        "print(\"Processed Train Tweets:\")\n",
        "print(x_train, '\\n')\n",
        "print(\"Train Labels:\")\n",
        "print(y_train)\n"
      ],
      "metadata": {
        "colab": {
          "base_uri": "https://localhost:8080/"
        },
        "id": "sqT3ufT6s2Hv",
        "outputId": "86d02781-aaaa-4428-aa26-ce0a75247e9b"
      },
      "execution_count": 47,
      "outputs": [
        {
          "output_type": "stream",
          "name": "stdout",
          "text": [
            "Processed Train Tweets:\n",
            "0       [user, mention, tell, relapses, cure, hear, do...\n",
            "1       [doctor, told, stop, gave, sum, pop, mix, w, a...\n",
            "2       [take, tylenol, wake, middle, night, put, ice,...\n",
            "3       [got, xans, advil, bottle, dont, take, shits, ...\n",
            "4       [mom, says, need, stop, eating, much, bc, ive,...\n",
            "                              ...                        \n",
            "9986                                    [vicodin, messed]\n",
            "9987                   [user, mention, get, tylenol, lol]\n",
            "9988                         [like, walking, tamiflu, ad]\n",
            "9989                              [klay, steph, steroids]\n",
            "9990                [horrible, pops, another, xanax, url]\n",
            "Name: tweet, Length: 9991, dtype: object \n",
            "\n",
            "Train Labels:\n",
            "0       0\n",
            "1       0\n",
            "2       1\n",
            "3       0\n",
            "4       1\n",
            "       ..\n",
            "9986    1\n",
            "9987    0\n",
            "9988    0\n",
            "9989    0\n",
            "9990    0\n",
            "Name: label, Length: 9991, dtype: int64\n"
          ]
        }
      ]
    },
    {
      "cell_type": "markdown",
      "source": [
        "Step 9: Split training data into training and validation sets"
      ],
      "metadata": {
        "id": "Q7_gFs9Hs6mM"
      }
    },
    {
      "cell_type": "code",
      "source": [
        "x_train, x_val, y_train, y_val = train_test_split(x_train, y_train, test_size=0.15, random_state=42)"
      ],
      "metadata": {
        "id": "fdMwUvXts-SZ"
      },
      "execution_count": 48,
      "outputs": []
    },
    {
      "cell_type": "markdown",
      "source": [
        "Step 9.1: Check class distribution and compute class weights"
      ],
      "metadata": {
        "id": "cEDWPjaVtDw6"
      }
    },
    {
      "cell_type": "code",
      "source": [
        "print(\"Class distribution in training set:\")\n",
        "print(pd.Series(y_train).value_counts())\n",
        "class_weights = class_weight.compute_class_weight('balanced', classes=np.unique(y_train), y=y_train)\n",
        "class_weights = dict(enumerate(class_weights))"
      ],
      "metadata": {
        "colab": {
          "base_uri": "https://localhost:8080/"
        },
        "id": "KeXqBWhStG4I",
        "outputId": "26b8271a-2bfa-4690-ac83-e77bbb0289e6"
      },
      "execution_count": 49,
      "outputs": [
        {
          "output_type": "stream",
          "name": "stdout",
          "text": [
            "Class distribution in training set:\n",
            "label\n",
            "0    6061\n",
            "1    2431\n",
            "Name: count, dtype: int64\n"
          ]
        }
      ]
    },
    {
      "cell_type": "markdown",
      "source": [
        "Step 10: Calculate maximum tweet length"
      ],
      "metadata": {
        "id": "cslz_6CmtKLE"
      }
    },
    {
      "cell_type": "code",
      "source": [
        "def get_max_length():\n",
        "    tweet_length = []\n",
        "    for tweet in x_train:\n",
        "        tweet_length.append(len(tweet))\n",
        "    return int(np.ceil(np.mean(tweet_length)))\n",
        "\n",
        "max_length = get_max_length()\n",
        "print(\"Maximum tweet length:\", max_length)"
      ],
      "metadata": {
        "colab": {
          "base_uri": "https://localhost:8080/"
        },
        "id": "VVqp3OXhtNh6",
        "outputId": "c843a8b5-9b78-45ac-d020-65fe5cd969fb"
      },
      "execution_count": 50,
      "outputs": [
        {
          "output_type": "stream",
          "name": "stdout",
          "text": [
            "Maximum tweet length: 10\n"
          ]
        }
      ]
    },
    {
      "cell_type": "markdown",
      "source": [
        "Step 11: Tokenize and pad sequences"
      ],
      "metadata": {
        "id": "Yvc4ZofQtRgF"
      }
    },
    {
      "cell_type": "code",
      "source": [
        "token = Tokenizer(lower=False)  # no need for lowercase, already done\n",
        "token.fit_on_texts(x_train)\n",
        "x_train_seq = token.texts_to_sequences(x_train)\n",
        "x_val_seq = token.texts_to_sequences(x_val)\n",
        "x_test_seq = token.texts_to_sequences(x_test)\n",
        "\n",
        "x_train_padded = pad_sequences(x_train_seq, maxlen=max_length, padding='post', truncating='post')\n",
        "x_val_padded = pad_sequences(x_val_seq, maxlen=max_length, padding='post', truncating='post')\n",
        "x_test_padded = pad_sequences(x_test_seq, maxlen=max_length, padding='post', truncating='post')\n",
        "\n",
        "total_words = len(token.word_index) + 1  # add 1 for padding\n",
        "print('Encoded X Train\\n', x_train_padded, '\\n')\n",
        "print('Encoded X Val\\n', x_val_padded, '\\n')\n",
        "print('Encoded X Test\\n', x_test_padded, '\\n')"
      ],
      "metadata": {
        "colab": {
          "base_uri": "https://localhost:8080/"
        },
        "id": "SOUJMa61tUfw",
        "outputId": "04a2c715-8cd5-4503-e0cd-40fa4006eb43"
      },
      "execution_count": 51,
      "outputs": [
        {
          "output_type": "stream",
          "name": "stdout",
          "text": [
            "Encoded X Train\n",
            " [[    2     1   113 ...     0     0     0]\n",
            " [  717   175   754 ...   541  4796  1225]\n",
            " [  207     3   220 ...     0     0     0]\n",
            " ...\n",
            " [  112   999   307 ...     9     0     0]\n",
            " [11555 11556   413 ...   128    13   346]\n",
            " [    6     3   488 ...     0     0     0]] \n",
            "\n",
            "Encoded X Val\n",
            " [[   2    1    2 ...    4  193 1940]\n",
            " [1367  167   99 ...  760  893    0]\n",
            " [   2    1  203 ...  172  102 2542]\n",
            " ...\n",
            " [   2    1    2 ...    4   45   24]\n",
            " [ 402 8213 2722 ... 2784    9    0]\n",
            " [   2    1  291 ...    0    0    0]] \n",
            "\n",
            "Encoded X Test\n",
            " [[ 102  606  109 ...  176    4  316]\n",
            " [ 562   11   51 ...   16  671   54]\n",
            " [ 378   12 1043 ...  880    5   76]\n",
            " ...\n",
            " [   2    1  146 ...    0    0    0]\n",
            " [   2    1    3 ...    0    0    0]\n",
            " [  58    8    9 ...    0    0    0]] \n",
            "\n"
          ]
        }
      ]
    },
    {
      "cell_type": "markdown",
      "source": [
        "Step 12: Define LSTM model (adapted from IMDB code)"
      ],
      "metadata": {
        "id": "ohUhJWoxtYVV"
      }
    },
    {
      "cell_type": "code",
      "source": [
        "EMBED_DIM = 32\n",
        "LSTM_OUT = 64\n",
        "\n",
        "def create_lstm_model():\n",
        "    model = Sequential([\n",
        "        Embedding(total_words, EMBED_DIM, input_length=max_length),\n",
        "        LSTM(LSTM_OUT),\n",
        "        Dense(1, activation='sigmoid')\n",
        "    ])\n",
        "    model.compile(optimizer='adam', loss='binary_crossentropy', metrics=['accuracy'])\n",
        "    return model\n",
        "\n",
        "lstm_model = create_lstm_model()\n",
        "lstm_model.summary()"
      ],
      "metadata": {
        "colab": {
          "base_uri": "https://localhost:8080/",
          "height": 267
        },
        "id": "_ogs9uSYtbVg",
        "outputId": "464ab425-c147-489d-85ff-1b17d91340e1"
      },
      "execution_count": 52,
      "outputs": [
        {
          "output_type": "stream",
          "name": "stderr",
          "text": [
            "/usr/local/lib/python3.11/dist-packages/keras/src/layers/core/embedding.py:90: UserWarning: Argument `input_length` is deprecated. Just remove it.\n",
            "  warnings.warn(\n"
          ]
        },
        {
          "output_type": "display_data",
          "data": {
            "text/plain": [
              "\u001b[1mModel: \"sequential_3\"\u001b[0m\n"
            ],
            "text/html": [
              "<pre style=\"white-space:pre;overflow-x:auto;line-height:normal;font-family:Menlo,'DejaVu Sans Mono',consolas,'Courier New',monospace\"><span style=\"font-weight: bold\">Model: \"sequential_3\"</span>\n",
              "</pre>\n"
            ]
          },
          "metadata": {}
        },
        {
          "output_type": "display_data",
          "data": {
            "text/plain": [
              "┏━━━━━━━━━━━━━━━━━━━━━━━━━━━━━━━━━┳━━━━━━━━━━━━━━━━━━━━━━━━┳━━━━━━━━━━━━━━━┓\n",
              "┃\u001b[1m \u001b[0m\u001b[1mLayer (type)                   \u001b[0m\u001b[1m \u001b[0m┃\u001b[1m \u001b[0m\u001b[1mOutput Shape          \u001b[0m\u001b[1m \u001b[0m┃\u001b[1m \u001b[0m\u001b[1m      Param #\u001b[0m\u001b[1m \u001b[0m┃\n",
              "┡━━━━━━━━━━━━━━━━━━━━━━━━━━━━━━━━━╇━━━━━━━━━━━━━━━━━━━━━━━━╇━━━━━━━━━━━━━━━┩\n",
              "│ embedding_3 (\u001b[38;5;33mEmbedding\u001b[0m)         │ ?                      │   \u001b[38;5;34m0\u001b[0m (unbuilt) │\n",
              "├─────────────────────────────────┼────────────────────────┼───────────────┤\n",
              "│ lstm_3 (\u001b[38;5;33mLSTM\u001b[0m)                   │ ?                      │   \u001b[38;5;34m0\u001b[0m (unbuilt) │\n",
              "├─────────────────────────────────┼────────────────────────┼───────────────┤\n",
              "│ dense_3 (\u001b[38;5;33mDense\u001b[0m)                 │ ?                      │   \u001b[38;5;34m0\u001b[0m (unbuilt) │\n",
              "└─────────────────────────────────┴────────────────────────┴───────────────┘\n"
            ],
            "text/html": [
              "<pre style=\"white-space:pre;overflow-x:auto;line-height:normal;font-family:Menlo,'DejaVu Sans Mono',consolas,'Courier New',monospace\">┏━━━━━━━━━━━━━━━━━━━━━━━━━━━━━━━━━┳━━━━━━━━━━━━━━━━━━━━━━━━┳━━━━━━━━━━━━━━━┓\n",
              "┃<span style=\"font-weight: bold\"> Layer (type)                    </span>┃<span style=\"font-weight: bold\"> Output Shape           </span>┃<span style=\"font-weight: bold\">       Param # </span>┃\n",
              "┡━━━━━━━━━━━━━━━━━━━━━━━━━━━━━━━━━╇━━━━━━━━━━━━━━━━━━━━━━━━╇━━━━━━━━━━━━━━━┩\n",
              "│ embedding_3 (<span style=\"color: #0087ff; text-decoration-color: #0087ff\">Embedding</span>)         │ ?                      │   <span style=\"color: #00af00; text-decoration-color: #00af00\">0</span> (unbuilt) │\n",
              "├─────────────────────────────────┼────────────────────────┼───────────────┤\n",
              "│ lstm_3 (<span style=\"color: #0087ff; text-decoration-color: #0087ff\">LSTM</span>)                   │ ?                      │   <span style=\"color: #00af00; text-decoration-color: #00af00\">0</span> (unbuilt) │\n",
              "├─────────────────────────────────┼────────────────────────┼───────────────┤\n",
              "│ dense_3 (<span style=\"color: #0087ff; text-decoration-color: #0087ff\">Dense</span>)                 │ ?                      │   <span style=\"color: #00af00; text-decoration-color: #00af00\">0</span> (unbuilt) │\n",
              "└─────────────────────────────────┴────────────────────────┴───────────────┘\n",
              "</pre>\n"
            ]
          },
          "metadata": {}
        },
        {
          "output_type": "display_data",
          "data": {
            "text/plain": [
              "\u001b[1m Total params: \u001b[0m\u001b[38;5;34m0\u001b[0m (0.00 B)\n"
            ],
            "text/html": [
              "<pre style=\"white-space:pre;overflow-x:auto;line-height:normal;font-family:Menlo,'DejaVu Sans Mono',consolas,'Courier New',monospace\"><span style=\"font-weight: bold\"> Total params: </span><span style=\"color: #00af00; text-decoration-color: #00af00\">0</span> (0.00 B)\n",
              "</pre>\n"
            ]
          },
          "metadata": {}
        },
        {
          "output_type": "display_data",
          "data": {
            "text/plain": [
              "\u001b[1m Trainable params: \u001b[0m\u001b[38;5;34m0\u001b[0m (0.00 B)\n"
            ],
            "text/html": [
              "<pre style=\"white-space:pre;overflow-x:auto;line-height:normal;font-family:Menlo,'DejaVu Sans Mono',consolas,'Courier New',monospace\"><span style=\"font-weight: bold\"> Trainable params: </span><span style=\"color: #00af00; text-decoration-color: #00af00\">0</span> (0.00 B)\n",
              "</pre>\n"
            ]
          },
          "metadata": {}
        },
        {
          "output_type": "display_data",
          "data": {
            "text/plain": [
              "\u001b[1m Non-trainable params: \u001b[0m\u001b[38;5;34m0\u001b[0m (0.00 B)\n"
            ],
            "text/html": [
              "<pre style=\"white-space:pre;overflow-x:auto;line-height:normal;font-family:Menlo,'DejaVu Sans Mono',consolas,'Courier New',monospace\"><span style=\"font-weight: bold\"> Non-trainable params: </span><span style=\"color: #00af00; text-decoration-color: #00af00\">0</span> (0.00 B)\n",
              "</pre>\n"
            ]
          },
          "metadata": {}
        }
      ]
    },
    {
      "cell_type": "markdown",
      "source": [
        "Step 13: Train LSTM model"
      ],
      "metadata": {
        "id": "CXlhaHEVtfAJ"
      }
    },
    {
      "cell_type": "code",
      "source": [
        "checkpoint_lstm = ModelCheckpoint('lstm_best_model.keras', monitor='val_accuracy', save_best_only=True, verbose=1)\n",
        "early_stop = EarlyStopping(monitor='val_loss', patience=3, restore_best_weights=True)\n",
        "\n",
        "lstm_history = lstm_model.fit(\n",
        "    x_train_padded, y_train,\n",
        "    validation_data=(x_val_padded, y_val),\n",
        "    batch_size=128,\n",
        "    epochs=5,\n",
        "    callbacks=[early_stop, checkpoint_lstm],\n",
        "    class_weight=class_weights\n",
        ")"
      ],
      "metadata": {
        "colab": {
          "base_uri": "https://localhost:8080/"
        },
        "id": "r3spqirHth1Z",
        "outputId": "0f5e5d58-7756-4493-ca88-a7a5ad09200c"
      },
      "execution_count": 53,
      "outputs": [
        {
          "output_type": "stream",
          "name": "stdout",
          "text": [
            "Epoch 1/5\n",
            "\u001b[1m66/67\u001b[0m \u001b[32m━━━━━━━━━━━━━━━━━━━\u001b[0m\u001b[37m━\u001b[0m \u001b[1m0s\u001b[0m 71ms/step - accuracy: 0.7054 - loss: 0.6684\n",
            "Epoch 1: val_accuracy improved from -inf to 0.75517, saving model to lstm_best_model.keras\n",
            "\u001b[1m67/67\u001b[0m \u001b[32m━━━━━━━━━━━━━━━━━━━━\u001b[0m\u001b[37m\u001b[0m \u001b[1m15s\u001b[0m 119ms/step - accuracy: 0.7059 - loss: 0.6670 - val_accuracy: 0.7552 - val_loss: 0.5219\n",
            "Epoch 2/5\n",
            "\u001b[1m67/67\u001b[0m \u001b[32m━━━━━━━━━━━━━━━━━━━━\u001b[0m\u001b[37m\u001b[0m \u001b[1m0s\u001b[0m 36ms/step - accuracy: 0.8411 - loss: 0.4047\n",
            "Epoch 2: val_accuracy improved from 0.75517 to 0.76718, saving model to lstm_best_model.keras\n",
            "\u001b[1m67/67\u001b[0m \u001b[32m━━━━━━━━━━━━━━━━━━━━\u001b[0m\u001b[37m\u001b[0m \u001b[1m3s\u001b[0m 46ms/step - accuracy: 0.8410 - loss: 0.4046 - val_accuracy: 0.7672 - val_loss: 0.4773\n",
            "Epoch 3/5\n",
            "\u001b[1m66/67\u001b[0m \u001b[32m━━━━━━━━━━━━━━━━━━━\u001b[0m\u001b[37m━\u001b[0m \u001b[1m0s\u001b[0m 41ms/step - accuracy: 0.8844 - loss: 0.2852\n",
            "Epoch 3: val_accuracy did not improve from 0.76718\n",
            "\u001b[1m67/67\u001b[0m \u001b[32m━━━━━━━━━━━━━━━━━━━━\u001b[0m\u001b[37m\u001b[0m \u001b[1m3s\u001b[0m 47ms/step - accuracy: 0.8844 - loss: 0.2852 - val_accuracy: 0.7578 - val_loss: 0.5653\n",
            "Epoch 4/5\n",
            "\u001b[1m66/67\u001b[0m \u001b[32m━━━━━━━━━━━━━━━━━━━\u001b[0m\u001b[37m━\u001b[0m \u001b[1m0s\u001b[0m 55ms/step - accuracy: 0.9157 - loss: 0.2142\n",
            "Epoch 4: val_accuracy did not improve from 0.76718\n",
            "\u001b[1m67/67\u001b[0m \u001b[32m━━━━━━━━━━━━━━━━━━━━\u001b[0m\u001b[37m\u001b[0m \u001b[1m6s\u001b[0m 62ms/step - accuracy: 0.9156 - loss: 0.2143 - val_accuracy: 0.7485 - val_loss: 0.6625\n",
            "Epoch 5/5\n",
            "\u001b[1m66/67\u001b[0m \u001b[32m━━━━━━━━━━━━━━━━━━━\u001b[0m\u001b[37m━\u001b[0m \u001b[1m0s\u001b[0m 44ms/step - accuracy: 0.9370 - loss: 0.1584\n",
            "Epoch 5: val_accuracy did not improve from 0.76718\n",
            "\u001b[1m67/67\u001b[0m \u001b[32m━━━━━━━━━━━━━━━━━━━━\u001b[0m\u001b[37m\u001b[0m \u001b[1m3s\u001b[0m 51ms/step - accuracy: 0.9368 - loss: 0.1589 - val_accuracy: 0.7465 - val_loss: 0.7102\n"
          ]
        }
      ]
    },
    {
      "cell_type": "markdown",
      "source": [
        "Step 14: Define Bi-LSTM model"
      ],
      "metadata": {
        "id": "hRYWznNgtlZP"
      }
    },
    {
      "cell_type": "code",
      "source": [
        "def create_bilstm_model():\n",
        "    model = Sequential([\n",
        "        Embedding(total_words, EMBED_DIM, input_length=max_length),\n",
        "        Bidirectional(LSTM(LSTM_OUT)),\n",
        "        Dense(1, activation='sigmoid')\n",
        "    ])\n",
        "    model.compile(optimizer='adam', loss='binary_crossentropy', metrics=['accuracy'])\n",
        "    return model\n",
        "\n",
        "bilstm_model = create_bilstm_model()\n",
        "bilstm_model.summary()"
      ],
      "metadata": {
        "colab": {
          "base_uri": "https://localhost:8080/",
          "height": 232
        },
        "id": "PbrJd2yCtsF6",
        "outputId": "e3cf2928-be79-4460-cc10-66c3b69d1896"
      },
      "execution_count": 54,
      "outputs": [
        {
          "output_type": "display_data",
          "data": {
            "text/plain": [
              "\u001b[1mModel: \"sequential_4\"\u001b[0m\n"
            ],
            "text/html": [
              "<pre style=\"white-space:pre;overflow-x:auto;line-height:normal;font-family:Menlo,'DejaVu Sans Mono',consolas,'Courier New',monospace\"><span style=\"font-weight: bold\">Model: \"sequential_4\"</span>\n",
              "</pre>\n"
            ]
          },
          "metadata": {}
        },
        {
          "output_type": "display_data",
          "data": {
            "text/plain": [
              "┏━━━━━━━━━━━━━━━━━━━━━━━━━━━━━━━━━┳━━━━━━━━━━━━━━━━━━━━━━━━┳━━━━━━━━━━━━━━━┓\n",
              "┃\u001b[1m \u001b[0m\u001b[1mLayer (type)                   \u001b[0m\u001b[1m \u001b[0m┃\u001b[1m \u001b[0m\u001b[1mOutput Shape          \u001b[0m\u001b[1m \u001b[0m┃\u001b[1m \u001b[0m\u001b[1m      Param #\u001b[0m\u001b[1m \u001b[0m┃\n",
              "┡━━━━━━━━━━━━━━━━━━━━━━━━━━━━━━━━━╇━━━━━━━━━━━━━━━━━━━━━━━━╇━━━━━━━━━━━━━━━┩\n",
              "│ embedding_4 (\u001b[38;5;33mEmbedding\u001b[0m)         │ ?                      │   \u001b[38;5;34m0\u001b[0m (unbuilt) │\n",
              "├─────────────────────────────────┼────────────────────────┼───────────────┤\n",
              "│ bidirectional_1 (\u001b[38;5;33mBidirectional\u001b[0m) │ ?                      │   \u001b[38;5;34m0\u001b[0m (unbuilt) │\n",
              "├─────────────────────────────────┼────────────────────────┼───────────────┤\n",
              "│ dense_4 (\u001b[38;5;33mDense\u001b[0m)                 │ ?                      │   \u001b[38;5;34m0\u001b[0m (unbuilt) │\n",
              "└─────────────────────────────────┴────────────────────────┴───────────────┘\n"
            ],
            "text/html": [
              "<pre style=\"white-space:pre;overflow-x:auto;line-height:normal;font-family:Menlo,'DejaVu Sans Mono',consolas,'Courier New',monospace\">┏━━━━━━━━━━━━━━━━━━━━━━━━━━━━━━━━━┳━━━━━━━━━━━━━━━━━━━━━━━━┳━━━━━━━━━━━━━━━┓\n",
              "┃<span style=\"font-weight: bold\"> Layer (type)                    </span>┃<span style=\"font-weight: bold\"> Output Shape           </span>┃<span style=\"font-weight: bold\">       Param # </span>┃\n",
              "┡━━━━━━━━━━━━━━━━━━━━━━━━━━━━━━━━━╇━━━━━━━━━━━━━━━━━━━━━━━━╇━━━━━━━━━━━━━━━┩\n",
              "│ embedding_4 (<span style=\"color: #0087ff; text-decoration-color: #0087ff\">Embedding</span>)         │ ?                      │   <span style=\"color: #00af00; text-decoration-color: #00af00\">0</span> (unbuilt) │\n",
              "├─────────────────────────────────┼────────────────────────┼───────────────┤\n",
              "│ bidirectional_1 (<span style=\"color: #0087ff; text-decoration-color: #0087ff\">Bidirectional</span>) │ ?                      │   <span style=\"color: #00af00; text-decoration-color: #00af00\">0</span> (unbuilt) │\n",
              "├─────────────────────────────────┼────────────────────────┼───────────────┤\n",
              "│ dense_4 (<span style=\"color: #0087ff; text-decoration-color: #0087ff\">Dense</span>)                 │ ?                      │   <span style=\"color: #00af00; text-decoration-color: #00af00\">0</span> (unbuilt) │\n",
              "└─────────────────────────────────┴────────────────────────┴───────────────┘\n",
              "</pre>\n"
            ]
          },
          "metadata": {}
        },
        {
          "output_type": "display_data",
          "data": {
            "text/plain": [
              "\u001b[1m Total params: \u001b[0m\u001b[38;5;34m0\u001b[0m (0.00 B)\n"
            ],
            "text/html": [
              "<pre style=\"white-space:pre;overflow-x:auto;line-height:normal;font-family:Menlo,'DejaVu Sans Mono',consolas,'Courier New',monospace\"><span style=\"font-weight: bold\"> Total params: </span><span style=\"color: #00af00; text-decoration-color: #00af00\">0</span> (0.00 B)\n",
              "</pre>\n"
            ]
          },
          "metadata": {}
        },
        {
          "output_type": "display_data",
          "data": {
            "text/plain": [
              "\u001b[1m Trainable params: \u001b[0m\u001b[38;5;34m0\u001b[0m (0.00 B)\n"
            ],
            "text/html": [
              "<pre style=\"white-space:pre;overflow-x:auto;line-height:normal;font-family:Menlo,'DejaVu Sans Mono',consolas,'Courier New',monospace\"><span style=\"font-weight: bold\"> Trainable params: </span><span style=\"color: #00af00; text-decoration-color: #00af00\">0</span> (0.00 B)\n",
              "</pre>\n"
            ]
          },
          "metadata": {}
        },
        {
          "output_type": "display_data",
          "data": {
            "text/plain": [
              "\u001b[1m Non-trainable params: \u001b[0m\u001b[38;5;34m0\u001b[0m (0.00 B)\n"
            ],
            "text/html": [
              "<pre style=\"white-space:pre;overflow-x:auto;line-height:normal;font-family:Menlo,'DejaVu Sans Mono',consolas,'Courier New',monospace\"><span style=\"font-weight: bold\"> Non-trainable params: </span><span style=\"color: #00af00; text-decoration-color: #00af00\">0</span> (0.00 B)\n",
              "</pre>\n"
            ]
          },
          "metadata": {}
        }
      ]
    },
    {
      "cell_type": "markdown",
      "source": [
        "Step 15: Train Bi-LSTM model"
      ],
      "metadata": {
        "id": "M_eFc1jitvTo"
      }
    },
    {
      "cell_type": "code",
      "source": [
        "checkpoint_bilstm = ModelCheckpoint('bilstm_best_model.keras', monitor='val_accuracy', save_best_only=True, verbose=1)\n",
        "\n",
        "bilstm_history = bilstm_model.fit(\n",
        "    x_train_padded, y_train,\n",
        "    validation_data=(x_val_padded, y_val),\n",
        "    batch_size=128,\n",
        "    epochs=5,\n",
        "    callbacks=[early_stop, checkpoint_bilstm],\n",
        "    class_weight=class_weights\n",
        ")"
      ],
      "metadata": {
        "colab": {
          "base_uri": "https://localhost:8080/"
        },
        "id": "aSPTio8wtyZk",
        "outputId": "4c98c85a-b80c-452a-b342-98f7b5ba5b0a"
      },
      "execution_count": 55,
      "outputs": [
        {
          "output_type": "stream",
          "name": "stdout",
          "text": [
            "Epoch 1/5\n",
            "\u001b[1m66/67\u001b[0m \u001b[32m━━━━━━━━━━━━━━━━━━━\u001b[0m\u001b[37m━\u001b[0m \u001b[1m0s\u001b[0m 27ms/step - accuracy: 0.6811 - loss: 0.6639\n",
            "Epoch 1: val_accuracy improved from -inf to 0.78719, saving model to bilstm_best_model.keras\n",
            "\u001b[1m67/67\u001b[0m \u001b[32m━━━━━━━━━━━━━━━━━━━━\u001b[0m\u001b[37m\u001b[0m \u001b[1m19s\u001b[0m 43ms/step - accuracy: 0.6824 - loss: 0.6622 - val_accuracy: 0.7872 - val_loss: 0.4587\n",
            "Epoch 2/5\n",
            "\u001b[1m65/67\u001b[0m \u001b[32m━━━━━━━━━━━━━━━━━━━\u001b[0m\u001b[37m━\u001b[0m \u001b[1m0s\u001b[0m 27ms/step - accuracy: 0.8380 - loss: 0.3967\n",
            "Epoch 2: val_accuracy did not improve from 0.78719\n",
            "\u001b[1m67/67\u001b[0m \u001b[32m━━━━━━━━━━━━━━━━━━━━\u001b[0m\u001b[37m\u001b[0m \u001b[1m4s\u001b[0m 29ms/step - accuracy: 0.8379 - loss: 0.3961 - val_accuracy: 0.7785 - val_loss: 0.4762\n",
            "Epoch 3/5\n",
            "\u001b[1m66/67\u001b[0m \u001b[32m━━━━━━━━━━━━━━━━━━━\u001b[0m\u001b[37m━\u001b[0m \u001b[1m0s\u001b[0m 36ms/step - accuracy: 0.8955 - loss: 0.2680\n",
            "Epoch 3: val_accuracy did not improve from 0.78719\n",
            "\u001b[1m67/67\u001b[0m \u001b[32m━━━━━━━━━━━━━━━━━━━━\u001b[0m\u001b[37m\u001b[0m \u001b[1m3s\u001b[0m 41ms/step - accuracy: 0.8954 - loss: 0.2680 - val_accuracy: 0.7472 - val_loss: 0.6122\n",
            "Epoch 4/5\n",
            "\u001b[1m65/67\u001b[0m \u001b[32m━━━━━━━━━━━━━━━━━━━\u001b[0m\u001b[37m━\u001b[0m \u001b[1m0s\u001b[0m 27ms/step - accuracy: 0.9210 - loss: 0.1857\n",
            "Epoch 4: val_accuracy did not improve from 0.78719\n",
            "\u001b[1m67/67\u001b[0m \u001b[32m━━━━━━━━━━━━━━━━━━━━\u001b[0m\u001b[37m\u001b[0m \u001b[1m4s\u001b[0m 31ms/step - accuracy: 0.9209 - loss: 0.1863 - val_accuracy: 0.7565 - val_loss: 0.6853\n"
          ]
        }
      ]
    },
    {
      "cell_type": "markdown",
      "source": [
        "Step 16: Evaluate models on test data"
      ],
      "metadata": {
        "id": "4pnQd0est1vo"
      }
    },
    {
      "cell_type": "code",
      "source": [
        "lstm_eval = lstm_model.evaluate(x_test_padded, y_test, verbose=1)\n",
        "bilstm_eval = bilstm_model.evaluate(x_test_padded, y_test, verbose=1)\n",
        "\n",
        "\n",
        "y_pred_lstm = (lstm_model.predict(x_test_padded) > 0.5).astype(int)\n",
        "y_pred_bilstm = (bilstm_model.predict(x_test_padded) > 0.5).astype(int)\n",
        "\n"
      ],
      "metadata": {
        "colab": {
          "base_uri": "https://localhost:8080/"
        },
        "id": "4SWw36Ebt9OA",
        "outputId": "0ca235d2-cd02-40e8-efb5-f99d84b925ad"
      },
      "execution_count": 56,
      "outputs": [
        {
          "output_type": "stream",
          "name": "stdout",
          "text": [
            "\u001b[1m105/105\u001b[0m \u001b[32m━━━━━━━━━━━━━━━━━━━━\u001b[0m\u001b[37m\u001b[0m \u001b[1m1s\u001b[0m 6ms/step - accuracy: 0.7600 - loss: 0.4833\n",
            "\u001b[1m105/105\u001b[0m \u001b[32m━━━━━━━━━━━━━━━━━━━━\u001b[0m\u001b[37m\u001b[0m \u001b[1m1s\u001b[0m 7ms/step - accuracy: 0.7709 - loss: 0.4788\n",
            "\u001b[1m105/105\u001b[0m \u001b[32m━━━━━━━━━━━━━━━━━━━━\u001b[0m\u001b[37m\u001b[0m \u001b[1m1s\u001b[0m 7ms/step\n",
            "\u001b[1m105/105\u001b[0m \u001b[32m━━━━━━━━━━━━━━━━━━━━\u001b[0m\u001b[37m\u001b[0m \u001b[1m2s\u001b[0m 7ms/step\n"
          ]
        }
      ]
    },
    {
      "cell_type": "markdown",
      "source": [
        "Step 17: Calculate detailed metrics"
      ],
      "metadata": {
        "id": "VPCra4couAmb"
      }
    },
    {
      "cell_type": "code",
      "source": [
        "lstm_metrics = {\n",
        "    'Accuracy': accuracy_score(y_test, y_pred_lstm),\n",
        "    'Precision': precision_score(y_test, y_pred_lstm),\n",
        "    'Recall': recall_score(y_test, y_pred_lstm),\n",
        "    'F1-Score': f1_score(y_test, y_pred_lstm),\n",
        "    'Loss': lstm_eval[0]\n",
        "}\n",
        "bilstm_metrics = {\n",
        "    'Accuracy': accuracy_score(y_test, y_pred_bilstm),\n",
        "    'Precision': precision_score(y_test, y_pred_bilstm),\n",
        "    'Recall': recall_score(y_test, y_pred_bilstm),\n",
        "    'F1-Score': f1_score(y_test, y_pred_bilstm),\n",
        "    'Loss': bilstm_eval[0]\n",
        "}"
      ],
      "metadata": {
        "id": "7jldBTyNuJNN"
      },
      "execution_count": 57,
      "outputs": []
    },
    {
      "cell_type": "markdown",
      "source": [
        "Step 18: Print and save performance comparison"
      ],
      "metadata": {
        "id": "Ssvf1urAuNm-"
      }
    },
    {
      "cell_type": "code",
      "source": [
        "metrics_df = pd.DataFrame([lstm_metrics, bilstm_metrics], index=['LSTM', 'Bi-LSTM'])\n",
        "print(\"\\nPerformance Comparison Table:\")\n",
        "print(metrics_df)\n",
        "metrics_df.to_csv('performance_comparison.csv')"
      ],
      "metadata": {
        "colab": {
          "base_uri": "https://localhost:8080/"
        },
        "id": "W8UN3hSWuQn8",
        "outputId": "356e498f-6e31-439c-c906-c1ab2c14fe5a"
      },
      "execution_count": 58,
      "outputs": [
        {
          "output_type": "stream",
          "name": "stdout",
          "text": [
            "\n",
            "Performance Comparison Table:\n",
            "         Accuracy  Precision    Recall  F1-Score      Loss\n",
            "LSTM     0.791654   0.616766  0.745605  0.675094  0.431678\n",
            "Bi-LSTM  0.804263   0.668810  0.645295  0.656842  0.438401\n"
          ]
        }
      ]
    },
    {
      "cell_type": "markdown",
      "source": [
        "Step 19: Plot accuracy and loss curves"
      ],
      "metadata": {
        "id": "qVd2kfnMuTjs"
      }
    },
    {
      "cell_type": "code",
      "source": [
        "plt.figure(figsize=(12, 5))\n",
        "\n",
        "plt.subplot(1, 2, 1)\n",
        "plt.plot(lstm_history.history['accuracy'], label='LSTM Train')\n",
        "plt.plot(lstm_history.history['val_accuracy'], label='LSTM Val')\n",
        "plt.plot(bilstm_history.history['accuracy'], label='Bi-LSTM Train')\n",
        "plt.plot(bilstm_history.history['val_accuracy'], label='Bi-LSTM Val')\n",
        "plt.title('Model Accuracy')\n",
        "plt.xlabel('Epoch')\n",
        "plt.ylabel('Accuracy')\n",
        "plt.legend()\n",
        "\n",
        "plt.subplot(1, 2, 2)\n",
        "plt.plot(lstm_history.history['loss'], label='LSTM Train')\n",
        "plt.plot(lstm_history.history['val_loss'], label='LSTM Val')\n",
        "plt.plot(bilstm_history.history['loss'], label='Bi-LSTM Train')\n",
        "plt.plot(bilstm_history.history['val_loss'], label='Bi-LSTM Val')\n",
        "plt.title('Model Loss')\n",
        "plt.xlabel('Epoch')\n",
        "plt.ylabel('Loss')\n",
        "plt.legend()\n",
        "\n",
        "plt.tight_layout()\n",
        "plt.savefig('performance_plot.png')\n",
        "plt.show()"
      ],
      "metadata": {
        "colab": {
          "base_uri": "https://localhost:8080/",
          "height": 507
        },
        "id": "mWk5vL2IuW_f",
        "outputId": "0ef2eebf-8069-49b0-8a52-c05e39a32865"
      },
      "execution_count": 59,
      "outputs": [
        {
          "output_type": "display_data",
          "data": {
            "text/plain": [
              "<Figure size 1200x500 with 2 Axes>"
            ],
            "image/png": "[encoded data removed]"
          },
          "metadata": {}
        }
      ]
    },
    {
      "cell_type": "markdown",
      "source": [
        "Step 20: Plot confusion matrices"
      ],
      "metadata": {
        "id": "3lwKAfkQuaY8"
      }
    },
    {
      "cell_type": "code",
      "source": [
        "cm_lstm = confusion_matrix(y_test, y_pred_lstm)\n",
        "cm_bilstm = confusion_matrix(y_test, y_pred_bilstm)\n",
        "\n",
        "plt.figure(figsize=(10, 4))\n",
        "plt.subplot(1, 2, 1)\n",
        "sns.heatmap(cm_lstm, annot=True, fmt='d', cmap='Blues')\n",
        "plt.title('LSTM Confusion Matrix')\n",
        "plt.xlabel('Predicted')\n",
        "plt.ylabel('True')\n",
        "\n",
        "plt.subplot(1, 2, 2)\n",
        "sns.heatmap(cm_bilstm, annot=True, fmt='d', cmap='Blues')\n",
        "plt.title('Bi-LSTM Confusion Matrix')\n",
        "plt.xlabel('Predicted')\n",
        "plt.ylabel('True')\n",
        "\n",
        "plt.tight_layout()\n",
        "plt.savefig('confusion_matrix.png')\n",
        "plt.show()"
      ],
      "metadata": {
        "colab": {
          "base_uri": "https://localhost:8080/",
          "height": 407
        },
        "id": "xv9_iKKJugEO",
        "outputId": "c8ab9662-3638-4275-89bb-a009b6707287"
      },
      "execution_count": 60,
      "outputs": [
        {
          "output_type": "display_data",
          "data": {
            "text/plain": [
              "<Figure size 1000x400 with 4 Axes>"
            ],
            "image/png": "[encoded data removed]"
          },
          "metadata": {}
        }
      ]
    },
    {
      "cell_type": "markdown",
      "source": [
        "Step 21: Notes for report"
      ],
      "metadata": {
        "id": "U79nIhequhnL"
      }
    },
    {
      "cell_type": "code",
      "source": [
        "print(\"\\nReport Discussion Notes:\")\n",
        "print(\"- Bi-LSTM likely outperforms LSTM due to bidirectional context, but is computationally heavier.\")\n",
        "print(\"- Hyperparameters: Embedding dim=32, LSTM units=64, batch_size=128, epochs=5 with early stopping.\")\n",
        "print(\"- Challenges: Noisy tweets (e.g., slang, abbreviations), potential class imbalance addressed with class weights.\")\n",
        "print(\"- Improvements: Try pre-trained embeddings (e.g., GloVe Twitter), GRU, or larger dataset.\")"
      ],
      "metadata": {
        "colab": {
          "base_uri": "https://localhost:8080/"
        },
        "id": "I7B91vMguk1s",
        "outputId": "646619ea-ed73-4c4d-b290-36ed0fca22e4"
      },
      "execution_count": 61,
      "outputs": [
        {
          "output_type": "stream",
          "name": "stdout",
          "text": [
            "\n",
            "Report Discussion Notes:\n",
            "- Bi-LSTM likely outperforms LSTM due to bidirectional context, but is computationally heavier.\n",
            "- Hyperparameters: Embedding dim=32, LSTM units=64, batch_size=128, epochs=5 with early stopping.\n",
            "- Challenges: Noisy tweets (e.g., slang, abbreviations), potential class imbalance addressed with class weights.\n",
            "- Improvements: Try pre-trained embeddings (e.g., GloVe Twitter), GRU, or larger dataset.\n"
          ]
        }
      ]
    }
  ]
}